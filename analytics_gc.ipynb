{
  "nbformat": 4,
  "nbformat_minor": 0,
  "metadata": {
    "colab": {
      "name": "analytics gc",
      "provenance": [],
      "collapsed_sections": []
    },
    "kernelspec": {
      "name": "python3",
      "display_name": "Python 3"
    },
    "language_info": {
      "name": "python"
    }
  },
  "cells": [
    {
      "cell_type": "code",
      "execution_count": 2,
      "metadata": {
        "colab": {
          "base_uri": "https://localhost:8080/",
          "height": 204
        },
        "id": "8Jk2MeEdZyhr",
        "outputId": "2b1e1905-bd46-4201-9aae-27a7e9c2a16b"
      },
      "outputs": [
        {
          "output_type": "execute_result",
          "data": {
            "text/html": [
              "\n",
              "  <div id=\"df-3192430b-6124-4137-b1e8-701f5d67abb5\">\n",
              "    <div class=\"colab-df-container\">\n",
              "      <div>\n",
              "<style scoped>\n",
              "    .dataframe tbody tr th:only-of-type {\n",
              "        vertical-align: middle;\n",
              "    }\n",
              "\n",
              "    .dataframe tbody tr th {\n",
              "        vertical-align: top;\n",
              "    }\n",
              "\n",
              "    .dataframe thead th {\n",
              "        text-align: right;\n",
              "    }\n",
              "</style>\n",
              "<table border=\"1\" class=\"dataframe\">\n",
              "  <thead>\n",
              "    <tr style=\"text-align: right;\">\n",
              "      <th></th>\n",
              "      <th>y</th>\n",
              "      <th>x1</th>\n",
              "      <th>x2</th>\n",
              "      <th>x3</th>\n",
              "      <th>x4</th>\n",
              "      <th>Unnamed: 5</th>\n",
              "      <th>open-close</th>\n",
              "      <th>high-low</th>\n",
              "    </tr>\n",
              "  </thead>\n",
              "  <tbody>\n",
              "    <tr>\n",
              "      <th>0</th>\n",
              "      <td>0</td>\n",
              "      <td>3861.22</td>\n",
              "      <td>3861.66</td>\n",
              "      <td>3860.75</td>\n",
              "      <td>3861.38</td>\n",
              "      <td>NaN</td>\n",
              "      <td>0.16</td>\n",
              "      <td>0.91</td>\n",
              "    </tr>\n",
              "    <tr>\n",
              "      <th>1</th>\n",
              "      <td>0</td>\n",
              "      <td>3861.19</td>\n",
              "      <td>3861.38</td>\n",
              "      <td>3860.16</td>\n",
              "      <td>3861.25</td>\n",
              "      <td>NaN</td>\n",
              "      <td>0.06</td>\n",
              "      <td>1.22</td>\n",
              "    </tr>\n",
              "    <tr>\n",
              "      <th>2</th>\n",
              "      <td>0</td>\n",
              "      <td>3861.38</td>\n",
              "      <td>3861.38</td>\n",
              "      <td>3858.47</td>\n",
              "      <td>3858.53</td>\n",
              "      <td>NaN</td>\n",
              "      <td>-2.85</td>\n",
              "      <td>2.91</td>\n",
              "    </tr>\n",
              "    <tr>\n",
              "      <th>3</th>\n",
              "      <td>1</td>\n",
              "      <td>3858.72</td>\n",
              "      <td>3858.72</td>\n",
              "      <td>3857.03</td>\n",
              "      <td>3858.19</td>\n",
              "      <td>NaN</td>\n",
              "      <td>-0.53</td>\n",
              "      <td>1.69</td>\n",
              "    </tr>\n",
              "    <tr>\n",
              "      <th>4</th>\n",
              "      <td>1</td>\n",
              "      <td>3858.09</td>\n",
              "      <td>3859.16</td>\n",
              "      <td>3858.03</td>\n",
              "      <td>3858.81</td>\n",
              "      <td>NaN</td>\n",
              "      <td>0.72</td>\n",
              "      <td>1.13</td>\n",
              "    </tr>\n",
              "  </tbody>\n",
              "</table>\n",
              "</div>\n",
              "      <button class=\"colab-df-convert\" onclick=\"convertToInteractive('df-3192430b-6124-4137-b1e8-701f5d67abb5')\"\n",
              "              title=\"Convert this dataframe to an interactive table.\"\n",
              "              style=\"display:none;\">\n",
              "        \n",
              "  <svg xmlns=\"http://www.w3.org/2000/svg\" height=\"24px\"viewBox=\"0 0 24 24\"\n",
              "       width=\"24px\">\n",
              "    <path d=\"M0 0h24v24H0V0z\" fill=\"none\"/>\n",
              "    <path d=\"M18.56 5.44l.94 2.06.94-2.06 2.06-.94-2.06-.94-.94-2.06-.94 2.06-2.06.94zm-11 1L8.5 8.5l.94-2.06 2.06-.94-2.06-.94L8.5 2.5l-.94 2.06-2.06.94zm10 10l.94 2.06.94-2.06 2.06-.94-2.06-.94-.94-2.06-.94 2.06-2.06.94z\"/><path d=\"M17.41 7.96l-1.37-1.37c-.4-.4-.92-.59-1.43-.59-.52 0-1.04.2-1.43.59L10.3 9.45l-7.72 7.72c-.78.78-.78 2.05 0 2.83L4 21.41c.39.39.9.59 1.41.59.51 0 1.02-.2 1.41-.59l7.78-7.78 2.81-2.81c.8-.78.8-2.07 0-2.86zM5.41 20L4 18.59l7.72-7.72 1.47 1.35L5.41 20z\"/>\n",
              "  </svg>\n",
              "      </button>\n",
              "      \n",
              "  <style>\n",
              "    .colab-df-container {\n",
              "      display:flex;\n",
              "      flex-wrap:wrap;\n",
              "      gap: 12px;\n",
              "    }\n",
              "\n",
              "    .colab-df-convert {\n",
              "      background-color: #E8F0FE;\n",
              "      border: none;\n",
              "      border-radius: 50%;\n",
              "      cursor: pointer;\n",
              "      display: none;\n",
              "      fill: #1967D2;\n",
              "      height: 32px;\n",
              "      padding: 0 0 0 0;\n",
              "      width: 32px;\n",
              "    }\n",
              "\n",
              "    .colab-df-convert:hover {\n",
              "      background-color: #E2EBFA;\n",
              "      box-shadow: 0px 1px 2px rgba(60, 64, 67, 0.3), 0px 1px 3px 1px rgba(60, 64, 67, 0.15);\n",
              "      fill: #174EA6;\n",
              "    }\n",
              "\n",
              "    [theme=dark] .colab-df-convert {\n",
              "      background-color: #3B4455;\n",
              "      fill: #D2E3FC;\n",
              "    }\n",
              "\n",
              "    [theme=dark] .colab-df-convert:hover {\n",
              "      background-color: #434B5C;\n",
              "      box-shadow: 0px 1px 3px 1px rgba(0, 0, 0, 0.15);\n",
              "      filter: drop-shadow(0px 1px 2px rgba(0, 0, 0, 0.3));\n",
              "      fill: #FFFFFF;\n",
              "    }\n",
              "  </style>\n",
              "\n",
              "      <script>\n",
              "        const buttonEl =\n",
              "          document.querySelector('#df-3192430b-6124-4137-b1e8-701f5d67abb5 button.colab-df-convert');\n",
              "        buttonEl.style.display =\n",
              "          google.colab.kernel.accessAllowed ? 'block' : 'none';\n",
              "\n",
              "        async function convertToInteractive(key) {\n",
              "          const element = document.querySelector('#df-3192430b-6124-4137-b1e8-701f5d67abb5');\n",
              "          const dataTable =\n",
              "            await google.colab.kernel.invokeFunction('convertToInteractive',\n",
              "                                                     [key], {});\n",
              "          if (!dataTable) return;\n",
              "\n",
              "          const docLinkHtml = 'Like what you see? Visit the ' +\n",
              "            '<a target=\"_blank\" href=https://colab.research.google.com/notebooks/data_table.ipynb>data table notebook</a>'\n",
              "            + ' to learn more about interactive tables.';\n",
              "          element.innerHTML = '';\n",
              "          dataTable['output_type'] = 'display_data';\n",
              "          await google.colab.output.renderOutput(dataTable, element);\n",
              "          const docLink = document.createElement('div');\n",
              "          docLink.innerHTML = docLinkHtml;\n",
              "          element.appendChild(docLink);\n",
              "        }\n",
              "      </script>\n",
              "    </div>\n",
              "  </div>\n",
              "  "
            ],
            "text/plain": [
              "   y       x1       x2       x3       x4  Unnamed: 5  open-close  high-low\n",
              "0  0  3861.22  3861.66  3860.75  3861.38         NaN        0.16      0.91\n",
              "1  0  3861.19  3861.38  3860.16  3861.25         NaN        0.06      1.22\n",
              "2  0  3861.38  3861.38  3858.47  3858.53         NaN       -2.85      2.91\n",
              "3  1  3858.72  3858.72  3857.03  3858.19         NaN       -0.53      1.69\n",
              "4  1  3858.09  3859.16  3858.03  3858.81         NaN        0.72      1.13"
            ]
          },
          "metadata": {},
          "execution_count": 2
        }
      ],
      "source": [
        "import pandas as pd\n",
        "\n",
        "data = pd.read_csv('https://raw.githubusercontent.com/Chhinna/Analytics-GC/main/Copy%20of%20Extract.xlsx%20-%20Sheet1.csv')\n",
        "\n",
        "data.head()"
      ]
    },
    {
      "cell_type": "markdown",
      "source": [
        "# New Section"
      ],
      "metadata": {
        "id": "p6jUBg-v18C6"
      }
    },
    {
      "cell_type": "code",
      "source": [
        "import numpy as np\n",
        "from sklearn.linear_model import LogisticRegression\n",
        "\n",
        "def linear_training(X_train,y_train):\n",
        "    # creating the polynomial features\n",
        "    reg = LogisticRegression(random_state=0).fit(X_train, y_train)\n",
        "    return reg\n",
        "\n",
        "def linear_prediction(reg, X_val, y_val):\n",
        "    y_pred = reg.predict(X_val)\n",
        "    score = 0\n",
        "    y_val = y_val.values.tolist()\n",
        "    for i in range(len(y_val)):\n",
        "      if(y_val[i] == y_pred[i]):\n",
        "        score = score + 1\n",
        "    return score/len(y_val)\n"
      ],
      "metadata": {
        "id": "B3jUksppavPx"
      },
      "execution_count": 3,
      "outputs": []
    },
    {
      "cell_type": "code",
      "source": [
        "def find_features(data):\n",
        "  X = data\n",
        "  X['open-close'] = X['x4']-X['x1']\n",
        "  X['high-low'] = X['x2']-X['x3']\n",
        "  X['bin_oc_delta'] = np.where(X['open-close']<0,0,1)\n",
        "  num_threshold=0.3\n",
        "  X['bin_volatile'] = np.where((X['open-close']/X['high-low'])<num_threshold,0,1)\n",
        "  X = X[['open-close', 'high-low', 'bin_oc_delta', 'bin_volatile']]\n",
        "  return X"
      ],
      "metadata": {
        "id": "0mfB667m4uRD"
      },
      "execution_count": 29,
      "outputs": []
    },
    {
      "cell_type": "code",
      "source": [
        "from sklearn.model_selection import train_test_split\n",
        "y = data['y']\n",
        "X = data[['open-close', 'high-low']]\n",
        "#X = data[['x1', 'x2', 'x3', 'x4']]\n",
        "# X_train, X_val, y_train, y_val  = train_test_split(X, y, test_size=0.2, random_state=1)\n",
        "\n",
        "# model = linear_training(X_train, y_train)\n",
        "# score = linear_prediction(model, X_val, y_val)\n",
        "# #print(score)\n",
        "# print(model.coef_)"
      ],
      "metadata": {
        "id": "mh9Qg5fEetdj"
      },
      "execution_count": 5,
      "outputs": []
    },
    {
      "cell_type": "code",
      "source": [
        "data_copy = data.copy()\n",
        "data_copy['bin_oc_delta'] = np.where(data_copy['open-close']<0,0,1) \n",
        "X['bin_oc_delta'] = data_copy['bin_oc_delta']\n",
        "num_threshold=0.3\n",
        "data_copy['bin_volatile'] = np.where((data_copy['open-close']/data_copy['high-low'])<num_threshold,0,1)\n",
        "X['bin_volatile'] = data_copy['bin_volatile']\n",
        "\n",
        "y = data['y']\n",
        "\n",
        "print(X, y)\n",
        "# X['Close Diff'] = data_copy['Close Diff']"
      ],
      "metadata": {
        "colab": {
          "base_uri": "https://localhost:8080/"
        },
        "id": "ahAr7xbeSouV",
        "outputId": "c7e92655-0452-4021-beb7-c182d7066fad"
      },
      "execution_count": 14,
      "outputs": [
        {
          "output_type": "stream",
          "name": "stdout",
          "text": [
            "      open-close  high-low  bin_oc_delta  bin_volatile  Close Diff\n",
            "0           0.16      0.91             1             0        0.13\n",
            "1           0.06      1.22             1             0        2.72\n",
            "2          -2.85      2.91             0             0        0.34\n",
            "3          -0.53      1.69             0             0       -0.62\n",
            "4           0.72      1.13             1             1       -0.82\n",
            "...          ...       ...           ...           ...         ...\n",
            "9995        0.13      1.25             1             0        0.16\n",
            "9996       -0.06      0.56             0             0       -0.19\n",
            "9997        0.16      0.62             1             0        0.57\n",
            "9998       -0.60      1.75             0             0       -0.13\n",
            "9999        0.16      0.60             1             0         NaN\n",
            "\n",
            "[10000 rows x 5 columns] 0       0\n",
            "1       0\n",
            "2       0\n",
            "3       1\n",
            "4       1\n",
            "       ..\n",
            "9995    0\n",
            "9996    1\n",
            "9997    0\n",
            "9998    1\n",
            "9999    0\n",
            "Name: y, Length: 10000, dtype: int64\n"
          ]
        },
        {
          "output_type": "stream",
          "name": "stderr",
          "text": [
            "/usr/local/lib/python3.7/dist-packages/ipykernel_launcher.py:3: SettingWithCopyWarning: \n",
            "A value is trying to be set on a copy of a slice from a DataFrame.\n",
            "Try using .loc[row_indexer,col_indexer] = value instead\n",
            "\n",
            "See the caveats in the documentation: https://pandas.pydata.org/pandas-docs/stable/user_guide/indexing.html#returning-a-view-versus-a-copy\n",
            "  This is separate from the ipykernel package so we can avoid doing imports until\n",
            "/usr/local/lib/python3.7/dist-packages/ipykernel_launcher.py:6: SettingWithCopyWarning: \n",
            "A value is trying to be set on a copy of a slice from a DataFrame.\n",
            "Try using .loc[row_indexer,col_indexer] = value instead\n",
            "\n",
            "See the caveats in the documentation: https://pandas.pydata.org/pandas-docs/stable/user_guide/indexing.html#returning-a-view-versus-a-copy\n",
            "  \n"
          ]
        }
      ]
    },
    {
      "cell_type": "code",
      "source": [
        "# data_copy = data.copy()\n",
        "# data_copy['Close Diff'] = data_copy['x4'].diff(-1)\n",
        "# X['Close Diff'] = data_copy['Close Diff']\n",
        "# #print(data_copy[['x4','Close Diff']])\n",
        "# #data_copy.dropna()\n",
        "# data_copy=data_copy[:9999]\n",
        "# data_copy.shape"
      ],
      "metadata": {
        "id": "EPoLsso9jgvP"
      },
      "execution_count": 15,
      "outputs": []
    },
    {
      "cell_type": "code",
      "source": [
        "X1 = X[['open-close', 'high-low','Close Diff', 'bin_oc_delta', 'bin_volatile']][:9999]\n",
        "y1 = y[:9999]"
      ],
      "metadata": {
        "id": "Fj9mPjMsVa9w"
      },
      "execution_count": 18,
      "outputs": []
    },
    {
      "cell_type": "code",
      "source": [
        "X_train, X_test, y_train, y_test  = train_test_split(X1, y1, shuffle=True, test_size=0.2, random_state=69)\n",
        "X_train, X_val, y_train, y_val  = train_test_split(X_train, y_train, test_size=0.3, random_state=19)\n",
        "model1 = linear_training(X_train, y_train)\n",
        "score1 = linear_prediction(model1, X_test, y_test)\n",
        "print(score1)\n",
        "print(model1.coef_)"
      ],
      "metadata": {
        "colab": {
          "base_uri": "https://localhost:8080/"
        },
        "id": "5P8-iwFvVyTM",
        "outputId": "aa7010e0-9bcf-4bbe-bebe-37ad60d3f1b8"
      },
      "execution_count": 19,
      "outputs": [
        {
          "output_type": "stream",
          "name": "stdout",
          "text": [
            "0.9975\n",
            "[[ 1.70631622e-01  9.89547993e-03 -1.59354089e+01 -3.50888293e-01\n",
            "   2.69223306e-01]]\n"
          ]
        }
      ]
    },
    {
      "cell_type": "code",
      "source": [
        "X2 = X[['open-close', 'high-low', 'bin_oc_delta', 'bin_volatile']][:9999]\n",
        "y2 = y[:9999]"
      ],
      "metadata": {
        "id": "1KhJMk9cVuS9"
      },
      "execution_count": 20,
      "outputs": []
    },
    {
      "cell_type": "code",
      "source": [
        "#y1 = data_copy.dropna()['y']\n",
        "# y1 = data_copy['y']\n",
        "# X = data_copy[['open-close', 'high-low','Close Diff']]\n",
        "#X = data_copy.dropna()[['open-close', 'high-low','Close Diff']]\n",
        "#X = data[['x1', 'x2', 'x3', 'x4']]\n",
        "X_train, X_test, y_train, y_test  = train_test_split(X2, y2, shuffle=True, test_size=0.2, random_state=69)\n",
        "X_train, X_val, y_train, y_val  = train_test_split(X_train, y_train, test_size=0.2, random_state=19)\n",
        "model2 = linear_training(X_train, y_train)\n",
        "score2 = linear_prediction(model2, X_test, y_test)\n",
        "print(score2)\n",
        "print(model2.coef_)"
      ],
      "metadata": {
        "colab": {
          "base_uri": "https://localhost:8080/"
        },
        "id": "XsGRXw_7ejsl",
        "outputId": "bb4df4c3-1d49-4030-af75-f00f03457478"
      },
      "execution_count": 27,
      "outputs": [
        {
          "output_type": "stream",
          "name": "stdout",
          "text": [
            "0.534\n",
            "[[ 0.03185961 -0.02415157 -0.00680359  0.3966864 ]]\n"
          ]
        }
      ]
    },
    {
      "cell_type": "code",
      "source": [
        "# test_data=pd.read_csv('https://github.com/ParthLa/Analytics-GC/blob/main/test_data_AnalyticsGC.csv')\n",
        "test_data=pd.read_csv('/content/test_data_AnalyticsGC.csv')"
      ],
      "metadata": {
        "id": "BuLhCeKmZtRO"
      },
      "execution_count": 25,
      "outputs": []
    },
    {
      "cell_type": "code",
      "source": [
        "test_data"
      ],
      "metadata": {
        "colab": {
          "base_uri": "https://localhost:8080/",
          "height": 419
        },
        "id": "OQEaJr0r4SxF",
        "outputId": "5430a4ab-3e0c-43b0-d232-92e7da1e5c44"
      },
      "execution_count": 35,
      "outputs": [
        {
          "output_type": "execute_result",
          "data": {
            "text/html": [
              "\n",
              "  <div id=\"df-e497a8a1-4e19-44d5-8448-b8f1c7473099\">\n",
              "    <div class=\"colab-df-container\">\n",
              "      <div>\n",
              "<style scoped>\n",
              "    .dataframe tbody tr th:only-of-type {\n",
              "        vertical-align: middle;\n",
              "    }\n",
              "\n",
              "    .dataframe tbody tr th {\n",
              "        vertical-align: top;\n",
              "    }\n",
              "\n",
              "    .dataframe thead th {\n",
              "        text-align: right;\n",
              "    }\n",
              "</style>\n",
              "<table border=\"1\" class=\"dataframe\">\n",
              "  <thead>\n",
              "    <tr style=\"text-align: right;\">\n",
              "      <th></th>\n",
              "      <th>x1</th>\n",
              "      <th>x2</th>\n",
              "      <th>x3</th>\n",
              "      <th>x4</th>\n",
              "      <th>open-close</th>\n",
              "      <th>high-low</th>\n",
              "      <th>bin_oc_delta</th>\n",
              "      <th>bin_volatile</th>\n",
              "    </tr>\n",
              "  </thead>\n",
              "  <tbody>\n",
              "    <tr>\n",
              "      <th>0</th>\n",
              "      <td>3798.66</td>\n",
              "      <td>3798.84</td>\n",
              "      <td>3798.09</td>\n",
              "      <td>3798.16</td>\n",
              "      <td>-0.50</td>\n",
              "      <td>0.75</td>\n",
              "      <td>0</td>\n",
              "      <td>0</td>\n",
              "    </tr>\n",
              "    <tr>\n",
              "      <th>1</th>\n",
              "      <td>3798.22</td>\n",
              "      <td>3798.78</td>\n",
              "      <td>3798.13</td>\n",
              "      <td>3798.53</td>\n",
              "      <td>0.31</td>\n",
              "      <td>0.65</td>\n",
              "      <td>1</td>\n",
              "      <td>1</td>\n",
              "    </tr>\n",
              "    <tr>\n",
              "      <th>2</th>\n",
              "      <td>3798.50</td>\n",
              "      <td>3799.06</td>\n",
              "      <td>3798.28</td>\n",
              "      <td>3798.28</td>\n",
              "      <td>-0.22</td>\n",
              "      <td>0.78</td>\n",
              "      <td>0</td>\n",
              "      <td>0</td>\n",
              "    </tr>\n",
              "    <tr>\n",
              "      <th>3</th>\n",
              "      <td>3798.31</td>\n",
              "      <td>3798.41</td>\n",
              "      <td>3797.53</td>\n",
              "      <td>3798.06</td>\n",
              "      <td>-0.25</td>\n",
              "      <td>0.88</td>\n",
              "      <td>0</td>\n",
              "      <td>0</td>\n",
              "    </tr>\n",
              "    <tr>\n",
              "      <th>4</th>\n",
              "      <td>3797.94</td>\n",
              "      <td>3798.78</td>\n",
              "      <td>3797.84</td>\n",
              "      <td>3798.75</td>\n",
              "      <td>0.81</td>\n",
              "      <td>0.94</td>\n",
              "      <td>1</td>\n",
              "      <td>1</td>\n",
              "    </tr>\n",
              "    <tr>\n",
              "      <th>...</th>\n",
              "      <td>...</td>\n",
              "      <td>...</td>\n",
              "      <td>...</td>\n",
              "      <td>...</td>\n",
              "      <td>...</td>\n",
              "      <td>...</td>\n",
              "      <td>...</td>\n",
              "      <td>...</td>\n",
              "    </tr>\n",
              "    <tr>\n",
              "      <th>995</th>\n",
              "      <td>3749.84</td>\n",
              "      <td>3750.09</td>\n",
              "      <td>3749.44</td>\n",
              "      <td>3749.75</td>\n",
              "      <td>-0.09</td>\n",
              "      <td>0.65</td>\n",
              "      <td>0</td>\n",
              "      <td>0</td>\n",
              "    </tr>\n",
              "    <tr>\n",
              "      <th>996</th>\n",
              "      <td>3749.88</td>\n",
              "      <td>3749.88</td>\n",
              "      <td>3749.03</td>\n",
              "      <td>3749.25</td>\n",
              "      <td>-0.63</td>\n",
              "      <td>0.85</td>\n",
              "      <td>0</td>\n",
              "      <td>0</td>\n",
              "    </tr>\n",
              "    <tr>\n",
              "      <th>997</th>\n",
              "      <td>3749.31</td>\n",
              "      <td>3749.38</td>\n",
              "      <td>3746.63</td>\n",
              "      <td>3746.81</td>\n",
              "      <td>-2.50</td>\n",
              "      <td>2.75</td>\n",
              "      <td>0</td>\n",
              "      <td>0</td>\n",
              "    </tr>\n",
              "    <tr>\n",
              "      <th>998</th>\n",
              "      <td>3747.03</td>\n",
              "      <td>3747.28</td>\n",
              "      <td>3746.00</td>\n",
              "      <td>3746.31</td>\n",
              "      <td>-0.72</td>\n",
              "      <td>1.28</td>\n",
              "      <td>0</td>\n",
              "      <td>0</td>\n",
              "    </tr>\n",
              "    <tr>\n",
              "      <th>999</th>\n",
              "      <td>3745.97</td>\n",
              "      <td>3746.50</td>\n",
              "      <td>3744.81</td>\n",
              "      <td>3744.88</td>\n",
              "      <td>-1.09</td>\n",
              "      <td>1.69</td>\n",
              "      <td>0</td>\n",
              "      <td>0</td>\n",
              "    </tr>\n",
              "  </tbody>\n",
              "</table>\n",
              "<p>1000 rows × 8 columns</p>\n",
              "</div>\n",
              "      <button class=\"colab-df-convert\" onclick=\"convertToInteractive('df-e497a8a1-4e19-44d5-8448-b8f1c7473099')\"\n",
              "              title=\"Convert this dataframe to an interactive table.\"\n",
              "              style=\"display:none;\">\n",
              "        \n",
              "  <svg xmlns=\"http://www.w3.org/2000/svg\" height=\"24px\"viewBox=\"0 0 24 24\"\n",
              "       width=\"24px\">\n",
              "    <path d=\"M0 0h24v24H0V0z\" fill=\"none\"/>\n",
              "    <path d=\"M18.56 5.44l.94 2.06.94-2.06 2.06-.94-2.06-.94-.94-2.06-.94 2.06-2.06.94zm-11 1L8.5 8.5l.94-2.06 2.06-.94-2.06-.94L8.5 2.5l-.94 2.06-2.06.94zm10 10l.94 2.06.94-2.06 2.06-.94-2.06-.94-.94-2.06-.94 2.06-2.06.94z\"/><path d=\"M17.41 7.96l-1.37-1.37c-.4-.4-.92-.59-1.43-.59-.52 0-1.04.2-1.43.59L10.3 9.45l-7.72 7.72c-.78.78-.78 2.05 0 2.83L4 21.41c.39.39.9.59 1.41.59.51 0 1.02-.2 1.41-.59l7.78-7.78 2.81-2.81c.8-.78.8-2.07 0-2.86zM5.41 20L4 18.59l7.72-7.72 1.47 1.35L5.41 20z\"/>\n",
              "  </svg>\n",
              "      </button>\n",
              "      \n",
              "  <style>\n",
              "    .colab-df-container {\n",
              "      display:flex;\n",
              "      flex-wrap:wrap;\n",
              "      gap: 12px;\n",
              "    }\n",
              "\n",
              "    .colab-df-convert {\n",
              "      background-color: #E8F0FE;\n",
              "      border: none;\n",
              "      border-radius: 50%;\n",
              "      cursor: pointer;\n",
              "      display: none;\n",
              "      fill: #1967D2;\n",
              "      height: 32px;\n",
              "      padding: 0 0 0 0;\n",
              "      width: 32px;\n",
              "    }\n",
              "\n",
              "    .colab-df-convert:hover {\n",
              "      background-color: #E2EBFA;\n",
              "      box-shadow: 0px 1px 2px rgba(60, 64, 67, 0.3), 0px 1px 3px 1px rgba(60, 64, 67, 0.15);\n",
              "      fill: #174EA6;\n",
              "    }\n",
              "\n",
              "    [theme=dark] .colab-df-convert {\n",
              "      background-color: #3B4455;\n",
              "      fill: #D2E3FC;\n",
              "    }\n",
              "\n",
              "    [theme=dark] .colab-df-convert:hover {\n",
              "      background-color: #434B5C;\n",
              "      box-shadow: 0px 1px 3px 1px rgba(0, 0, 0, 0.15);\n",
              "      filter: drop-shadow(0px 1px 2px rgba(0, 0, 0, 0.3));\n",
              "      fill: #FFFFFF;\n",
              "    }\n",
              "  </style>\n",
              "\n",
              "      <script>\n",
              "        const buttonEl =\n",
              "          document.querySelector('#df-e497a8a1-4e19-44d5-8448-b8f1c7473099 button.colab-df-convert');\n",
              "        buttonEl.style.display =\n",
              "          google.colab.kernel.accessAllowed ? 'block' : 'none';\n",
              "\n",
              "        async function convertToInteractive(key) {\n",
              "          const element = document.querySelector('#df-e497a8a1-4e19-44d5-8448-b8f1c7473099');\n",
              "          const dataTable =\n",
              "            await google.colab.kernel.invokeFunction('convertToInteractive',\n",
              "                                                     [key], {});\n",
              "          if (!dataTable) return;\n",
              "\n",
              "          const docLinkHtml = 'Like what you see? Visit the ' +\n",
              "            '<a target=\"_blank\" href=https://colab.research.google.com/notebooks/data_table.ipynb>data table notebook</a>'\n",
              "            + ' to learn more about interactive tables.';\n",
              "          element.innerHTML = '';\n",
              "          dataTable['output_type'] = 'display_data';\n",
              "          await google.colab.output.renderOutput(dataTable, element);\n",
              "          const docLink = document.createElement('div');\n",
              "          docLink.innerHTML = docLinkHtml;\n",
              "          element.appendChild(docLink);\n",
              "        }\n",
              "      </script>\n",
              "    </div>\n",
              "  </div>\n",
              "  "
            ],
            "text/plain": [
              "          x1       x2       x3  ...  high-low  bin_oc_delta  bin_volatile\n",
              "0    3798.66  3798.84  3798.09  ...      0.75             0             0\n",
              "1    3798.22  3798.78  3798.13  ...      0.65             1             1\n",
              "2    3798.50  3799.06  3798.28  ...      0.78             0             0\n",
              "3    3798.31  3798.41  3797.53  ...      0.88             0             0\n",
              "4    3797.94  3798.78  3797.84  ...      0.94             1             1\n",
              "..       ...      ...      ...  ...       ...           ...           ...\n",
              "995  3749.84  3750.09  3749.44  ...      0.65             0             0\n",
              "996  3749.88  3749.88  3749.03  ...      0.85             0             0\n",
              "997  3749.31  3749.38  3746.63  ...      2.75             0             0\n",
              "998  3747.03  3747.28  3746.00  ...      1.28             0             0\n",
              "999  3745.97  3746.50  3744.81  ...      1.69             0             0\n",
              "\n",
              "[1000 rows x 8 columns]"
            ]
          },
          "metadata": {},
          "execution_count": 35
        }
      ]
    },
    {
      "cell_type": "code",
      "source": [
        "test_X = find_features(test_data)"
      ],
      "metadata": {
        "id": "gPaNJn0_51K0"
      },
      "execution_count": 30,
      "outputs": []
    },
    {
      "cell_type": "code",
      "source": [
        "pred = model2.predict(test_X)"
      ],
      "metadata": {
        "id": "5cM-zrsw4X6y"
      },
      "execution_count": 40,
      "outputs": []
    },
    {
      "cell_type": "code",
      "source": [
        "pred_df = pd.DataFrame(pred, columns=['y'])\n",
        "pred_df.to_csv('y_test.csv')"
      ],
      "metadata": {
        "id": "t0v6ibsF9vqW"
      },
      "execution_count": 41,
      "outputs": []
    },
    {
      "cell_type": "code",
      "source": [
        "nmr = 0\n",
        "dnm = 0\n",
        "l = test_data.shape[0]\n",
        "for i in range(l-1):\n",
        "  c1=test_data['x4'][i+1] - test_data['x4'][i]\n",
        "  if(c1>=0 and pred[i]==1):\n",
        "    nmr+=1\n",
        "  elif(c1<0 and pred[i]==0):\n",
        "    nmr+=1\n",
        "  dnm+=1"
      ],
      "metadata": {
        "id": "DNipJqNPAYYk"
      },
      "execution_count": 42,
      "outputs": []
    },
    {
      "cell_type": "code",
      "source": [
        "acc = nmr/dnm\n",
        "acc"
      ],
      "metadata": {
        "colab": {
          "base_uri": "https://localhost:8080/"
        },
        "id": "fQNZwJNTBPvE",
        "outputId": "eefdf723-be07-4edd-977f-d8bba94ddc2c"
      },
      "execution_count": 43,
      "outputs": [
        {
          "output_type": "execute_result",
          "data": {
            "text/plain": [
              "0.5075075075075075"
            ]
          },
          "metadata": {},
          "execution_count": 43
        }
      ]
    }
  ]
}